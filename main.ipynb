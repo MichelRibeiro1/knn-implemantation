{
 "cells": [
  {
   "cell_type": "code",
   "execution_count": 5,
   "metadata": {},
   "outputs": [],
   "source": [
    "from sklearn.cross_validation import train_test_split\n",
    "from random import randint\n",
    "import numpy as np\n",
    "import math"
   ]
  },
  {
   "cell_type": "code",
   "execution_count": null,
   "metadata": {},
   "outputs": [],
   "source": [
    "'''\n",
    "    Attribute Information:\n",
    "\n",
    "    1. sepal length in cm \n",
    "    2. sepal width in cm \n",
    "    3. petal length in cm \n",
    "    4. petal width in cm \n",
    "    5. class: \n",
    "    -- Iris Setosa - 1\n",
    "    -- Iris Versicolour - 2 \n",
    "    -- Iris Virginica - 3\n",
    "'''"
   ]
  },
  {
   "cell_type": "code",
   "execution_count": 7,
   "metadata": {},
   "outputs": [],
   "source": [
    "# Separa o dataset em listas: x -> entrada e y -> saida\n",
    "x = np.genfromtxt('IRIS.csv', delimiter=',', usecols=(0,1,2,3), skip_header=1)\n",
    "y = np.genfromtxt('IRIS.csv', delimiter=',', usecols=(4), skip_header=1)"
   ]
  },
  {
   "cell_type": "code",
   "execution_count": 105,
   "metadata": {},
   "outputs": [],
   "source": [
    "# Separa as listas em amostras de treinamento e teste\n",
    "x_treino, x_teste, y_treino, y_teste = train_test_split(x, y, test_size=0.4, random_state=35)\n",
    "intrus = 0"
   ]
  },
  {
   "cell_type": "code",
   "execution_count": 9,
   "metadata": {},
   "outputs": [],
   "source": [
    "def dist_euclidiana(v1, v2):\n",
    "    global intrus\n",
    "    dim, soma = len(v1), 0\n",
    "    for i in range(dim - 1):\n",
    "        soma += math.pow(v1[i] - v2[i], 2)\n",
    "    return math.sqrt(soma)"
   ]
  },
  {
   "cell_type": "code",
   "execution_count": 53,
   "metadata": {},
   "outputs": [],
   "source": [
    "def knn(x_treinamento, y_treinamento, nova_amostra, K):\n",
    "    global intrus\n",
    "    intrus = 0\n",
    "    dists, tam_treino = {}, len(x_treinamento)\n",
    "    intrus += 3\n",
    "    for i in range(tam_treino):\n",
    "        d = dist_euclidiana(x_treinamento[i], nova_amostra)\n",
    "        dists[i] = d\n",
    "        intrus += 2\n",
    "    intrus += 1\n",
    "    k_vizinhos = sorted(dists, key=dists.get)[:K]\n",
    "    intrus += 3\n",
    "    qtd_setosas, qtd_versis, qtd_virgis = 0, 0, 0\n",
    "    intrus += 3\n",
    "    for indice in k_vizinhos:\n",
    "        if y_treinamento[indice] == 1:\n",
    "            qtd_setosas += 1\n",
    "            intrus += 1\n",
    "        elif y_treinamento[indice] == 2:\n",
    "            qtd_versis += 1\n",
    "            intrus += 1\n",
    "        else:\n",
    "            qtd_virgis += 1\n",
    "            intrus += 1\n",
    "\n",
    "    if (qtd_setosas > qtd_versis) and (qtd_setosas > qtd_virgis):\n",
    "        return 1\n",
    "    elif (qtd_versis > qtd_setosas) and (qtd_versis > qtd_virgis):\n",
    "        return 2\n",
    "    else:\n",
    "        return 3"
   ]
  },
  {
   "cell_type": "code",
   "execution_count": 90,
   "metadata": {},
   "outputs": [],
   "source": [
    "def teste(n):\n",
    "    print(x_teste[n])\n",
    "    classes = {1: 'Iris-Setosa', 2: 'Iris-Versicolor', 3: 'Iris-Virginica'}\n",
    "    print('Esperado: ' + classes[y_teste[n]])\n",
    "    print('Classificado como: ' + classes[knn(x_treino, y_treino, x_teste[n], 15)])\n",
    "    print('Total de instruções: ' + str(intrus))"
   ]
  },
  {
   "cell_type": "code",
   "execution_count": 117,
   "metadata": {},
   "outputs": [
    {
     "name": "stdout",
     "output_type": "stream",
     "text": [
      "[6.5 3.  5.8 2.2]\n",
      "Esperado: Iris-Virginica\n",
      "Classificado como: Iris-Virginica\n",
      "Total de instruções: 205\n"
     ]
    }
   ],
   "source": [
    "teste(5)"
   ]
  },
  {
   "cell_type": "code",
   "execution_count": 100,
   "metadata": {},
   "outputs": [],
   "source": [
    "def teste_todos(K):\n",
    "    classes, total_acertos = {1: 'Iris-Setosa', 2: 'Iris-Versicolor', 3: 'Iris-Virginica'}, 0\n",
    "    for i in range(len(x_teste)):\n",
    "        result = classes[knn(x_treino, y_treino, x_teste[i], K)]\n",
    "        esperado = classes[y_teste[i]]\n",
    "        if result == esperado:\n",
    "            total_acertos += 1\n",
    "        else:\n",
    "            print(i)\n",
    "    print('Percentual de acerto: ' + str(round(total_acertos / len(x_teste), 4) * 100) + '%')"
   ]
  },
  {
   "cell_type": "code",
   "execution_count": 115,
   "metadata": {},
   "outputs": [
    {
     "name": "stdout",
     "output_type": "stream",
     "text": [
      "3\n",
      "32\n",
      "53\n",
      "Percentual de acerto: 95.0%\n"
     ]
    }
   ],
   "source": [
    "teste_todos(13)"
   ]
  }
 ],
 "metadata": {
  "kernelspec": {
   "display_name": "Python 3",
   "language": "python",
   "name": "python3"
  },
  "language_info": {
   "codemirror_mode": {
    "name": "ipython",
    "version": 3
   },
   "file_extension": ".py",
   "mimetype": "text/x-python",
   "name": "python",
   "nbconvert_exporter": "python",
   "pygments_lexer": "ipython3",
   "version": "3.5.2"
  }
 },
 "nbformat": 4,
 "nbformat_minor": 2
}
