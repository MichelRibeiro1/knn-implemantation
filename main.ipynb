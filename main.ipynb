{
 "cells": [
  {
   "cell_type": "code",
   "execution_count": 50,
   "metadata": {},
   "outputs": [],
   "source": [
    "from sklearn.cross_validation import train_test_split\n",
    "import matplotlib.pyplot as plt\n",
    "from random import randint\n",
    "import numpy as np\n",
    "import math"
   ]
  },
  {
   "cell_type": "code",
   "execution_count": null,
   "metadata": {},
   "outputs": [],
   "source": [
    "'''\n",
    "    Attribute Information:\n",
    "\n",
    "    1. sepal length in cm \n",
    "    2. sepal width in cm \n",
    "    3. petal length in cm \n",
    "    4. petal width in cm \n",
    "    5. class: \n",
    "    -- Iris Setosa - 1\n",
    "    -- Iris Versicolour - 2 \n",
    "    -- Iris Virginica - 3\n",
    "'''"
   ]
  },
  {
   "cell_type": "code",
   "execution_count": 4,
   "metadata": {},
   "outputs": [],
   "source": [
    "# Separa o dataset em listas: x -> entrada e y -> saida\n",
    "x = np.genfromtxt('IRIS.csv', delimiter=',', usecols=(0,1,2,3), skip_header=1)\n",
    "y = np.genfromtxt('IRIS.csv', delimiter=',', usecols=(4), skip_header=1)"
   ]
  },
  {
   "cell_type": "code",
   "execution_count": 42,
   "metadata": {},
   "outputs": [],
   "source": [
    "# Separa as listas em amostras de treinamento e teste\n",
    "x_treino, x_teste, y_treino, y_teste = train_test_split(x, y, test_size=0.1, random_state=35)\n",
    "intrus = 0"
   ]
  },
  {
   "cell_type": "code",
   "execution_count": 10,
   "metadata": {},
   "outputs": [],
   "source": [
    "def dist_euclidiana(v1, v2):\n",
    "    global intrus\n",
    "    dim, soma = len(v1), 0\n",
    "    intrus += 3\n",
    "    for i in range(dim - 1):\n",
    "        intrus += 1\n",
    "        soma += math.pow(v1[i] - v2[i], 2)\n",
    "    intrus += 2\n",
    "    return math.sqrt(soma)"
   ]
  },
  {
   "cell_type": "code",
   "execution_count": 11,
   "metadata": {},
   "outputs": [],
   "source": [
    "def knn(x_treinamento, y_treinamento, nova_amostra, K):\n",
    "    global intrus\n",
    "    intrus = 0\n",
    "    dists, tam_treino = {}, len(x_treinamento)\n",
    "    intrus += 3\n",
    "    for i in range(tam_treino):\n",
    "        d = dist_euclidiana(x_treinamento[i], nova_amostra)\n",
    "        dists[i] = d\n",
    "        intrus += 2\n",
    "    intrus += 1\n",
    "    k_vizinhos = sorted(dists, key=dists.get)[:K]\n",
    "    intrus += 3\n",
    "    qtd_setosas, qtd_versis, qtd_virgis = 0, 0, 0\n",
    "    intrus += 3\n",
    "    for indice in k_vizinhos:\n",
    "        if y_treinamento[indice] == 1:\n",
    "            qtd_setosas += 1\n",
    "            intrus += 1\n",
    "        elif y_treinamento[indice] == 2:\n",
    "            qtd_versis += 1\n",
    "            intrus += 1\n",
    "        else:\n",
    "            qtd_virgis += 1\n",
    "            intrus += 1\n",
    "\n",
    "    if (qtd_setosas > qtd_versis) and (qtd_setosas > qtd_virgis):\n",
    "        return 1\n",
    "    elif (qtd_versis > qtd_setosas) and (qtd_versis > qtd_virgis):\n",
    "        return 2\n",
    "    else:\n",
    "        return 3"
   ]
  },
  {
   "cell_type": "code",
   "execution_count": 12,
   "metadata": {},
   "outputs": [],
   "source": [
    "def teste(n):\n",
    "    print(x_teste[n])\n",
    "    classes = {1: 'Iris-Setosa', 2: 'Iris-Versicolor', 3: 'Iris-Virginica'}\n",
    "    print('Esperado: ' + classes[y_teste[n]])\n",
    "    print('Classificado como: ' + classes[knn(x_treino, y_treino, x_teste[n], 15)])\n",
    "    print('Total de instruções: ' + str(intrus))"
   ]
  },
  {
   "cell_type": "code",
   "execution_count": 43,
   "metadata": {},
   "outputs": [
    {
     "name": "stdout",
     "output_type": "stream",
     "text": [
      "[6.9 3.2 5.7 2.3]\n",
      "Esperado: Iris-Virginica\n",
      "Classificado como: Iris-Virginica\n",
      "Total de instruções: 1375\n",
      "135\n"
     ]
    }
   ],
   "source": [
    "teste(13)\n",
    "print(len(x_treino))"
   ]
  },
  {
   "cell_type": "code",
   "execution_count": 45,
   "metadata": {},
   "outputs": [],
   "source": [
    "def teste_todos(K):\n",
    "    classes, total_acertos, erros = {1: 'Iris-Setosa', 2: 'Iris-Versicolor', 3: 'Iris-Virginica'}, 0, []\n",
    "    for i in range(len(x_teste)):\n",
    "        result = classes[knn(x_treino, y_treino, x_teste[i], K)]\n",
    "        esperado = classes[y_teste[i]]\n",
    "        if result == esperado:\n",
    "            total_acertos += 1\n",
    "        else:\n",
    "            erros.append(i)\n",
    "    print('Erros: ' + str(erros))\n",
    "    print('Percentual de acerto: ' + str(round(total_acertos / len(x_teste), 4) * 100) + '%')"
   ]
  },
  {
   "cell_type": "code",
   "execution_count": 48,
   "metadata": {},
   "outputs": [
    {
     "name": "stdout",
     "output_type": "stream",
     "text": [
      "Erros: [3]\n",
      "Percentual de acerto: 93.33%\n"
     ]
    }
   ],
   "source": [
    "teste_todos(13)"
   ]
  },
  {
   "cell_type": "code",
   "execution_count": 51,
   "metadata": {},
   "outputs": [],
   "source": [
    "testes_instrus = [325, 475, 625, 775, 925, 1075, 1225, 1375]\n",
    "testes_tamanho = [30, 45, 60,75, 90, 105, 120, 135]"
   ]
  },
  {
   "cell_type": "code",
   "execution_count": 57,
   "metadata": {},
   "outputs": [
    {
     "data": {
      "text/plain": [
       "[<matplotlib.lines.Line2D at 0x7fc4401d8cc0>]"
      ]
     },
     "execution_count": 57,
     "metadata": {},
     "output_type": "execute_result"
    },
    {
     "data": {
      "image/png": "[encoded data removed]",
      "text/plain": [
       "<matplotlib.figure.Figure at 0x7fc4401e4898>"
      ]
     },
     "metadata": {},
     "output_type": "display_data"
    }
   ],
   "source": [
    "plt.plot(testes_tamanho, testes_instrus, 'r--', marker='o')"
   ]
  }
 ],
 "metadata": {
  "kernelspec": {
   "display_name": "Python 3",
   "language": "python",
   "name": "python3"
  },
  "language_info": {
   "codemirror_mode": {
    "name": "ipython",
    "version": 3
   },
   "file_extension": ".py",
   "mimetype": "text/x-python",
   "name": "python",
   "nbconvert_exporter": "python",
   "pygments_lexer": "ipython3",
   "version": "3.5.2"
  }
 },
 "nbformat": 4,
 "nbformat_minor": 2
}
